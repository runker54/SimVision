{
 "cells": [
  {
   "cell_type": "code",
   "execution_count": 1,
   "metadata": {},
   "outputs": [],
   "source": [
    "import os\n",
    "import pandas as pd\n",
    "from script.similarity_picture import main"
   ]
  },
  {
   "cell_type": "markdown",
   "metadata": {},
   "source": [
    "### 构造图片组 \n",
    "这里只示例从excel表中构造图片组，如果从本地文件构造图片组，则需要使用OS库中的函数遍历文件夹中的所有图片，并将其路径添加到图片组中。对应的组名为文件夹名。\n"
   ]
  },
  {
   "cell_type": "code",
   "execution_count": 2,
   "metadata": {},
   "outputs": [],
   "source": [
    "# 图片url表 \n",
    "img_df = pd.read_excel('./table/img_info_1854.xlsx')\n",
    "# 首先，过滤出 wjfl 为 1300 的图片\n",
    "filtered_df = img_df[img_df['wjfl'] == 1300]\n",
    "# 使用 groupby 和 agg 来创建字典\n",
    "img_url_dict = filtered_df.groupby('glbh')['wjlj'].agg(list).to_dict()\n"
   ]
  },
  {
   "cell_type": "code",
   "execution_count": 3,
   "metadata": {},
   "outputs": [
    {
     "data": {
      "text/plain": [
       "{5203300101000003: ['https://sanpu.iarrp.cn/ssp-dccy/2023-10-27/520330/2a78d39e-62cf-4de7-8476-c1962cbd4319.jpg',\n",
       "  'https://sanpu.iarrp.cn/ssp-dccy/2023-10-27/520330/d385ca47-6c9f-488f-88df-69f7e19d5c99.jpg',\n",
       "  'https://sanpu.iarrp.cn/ssp-dccy/2023-10-27/520330/c3dd7e31-7778-4c7c-8664-9a21e48b8921.jpg',\n",
       "  'https://sanpu.iarrp.cn/ssp-dccy/2023-10-27/520330/47a64c90-81f0-4818-b613-a57f0fd42d28.jpg',\n",
       "  'https://sanpu.iarrp.cn/ssp-dccy/2023-10-27/520330/a4a82c92-d8ad-4516-8460-4b5330e62cf6.jpg'],\n",
       " 5203300101000007: ['https://sanpu.iarrp.cn/ssp-dccy/2023-11-10/520330/48f81865-c90e-43ff-b331-ee559f5834c6.jpg',\n",
       "  'https://sanpu.iarrp.cn/ssp-dccy/2023-11-10/520330/70da4515-f196-4ee4-867d-2f055614b030.jpg',\n",
       "  'https://sanpu.iarrp.cn/ssp-dccy/2023-11-10/520330/7cc0b5f1-8ddb-4958-8993-61b1e9f3b1cc.jpg',\n",
       "  'https://sanpu.iarrp.cn/ssp-dccy/2023-11-10/520330/272ba830-1201-4ac9-9ce1-c295eaa97f36.jpg',\n",
       "  'https://sanpu.iarrp.cn/ssp-dccy/2023-11-10/520330/f57b2dde-8e1b-4002-a9b9-1e84ce75b007.jpg']}"
      ]
     },
     "execution_count": 3,
     "metadata": {},
     "output_type": "execute_result"
    }
   ],
   "source": [
    "# 查看图片组格式是否正确\n",
    "dict(list(img_url_dict.items())[:2])"
   ]
  },
  {
   "cell_type": "code",
   "execution_count": 4,
   "metadata": {},
   "outputs": [
    {
     "name": "stderr",
     "output_type": "stream",
     "text": [
      "2024-10-09 23:21:11,155 - INFO - 开始执行图片相似度分析\n",
      "2024-10-09 23:21:11,156 - INFO - 图片组: {5203300101000003: ['https://sanpu.iarrp.cn/ssp-dccy/2023-10-27/520330/2a78d39e-62cf-4de7-8476-c1962cbd4319.jpg', 'https://sanpu.iarrp.cn/ssp-dccy/2023-10-27/520330/d385ca47-6c9f-488f-88df-69f7e19d5c99.jpg', 'https://sanpu.iarrp.cn/ssp-dccy/2023-10-27/520330/c3dd7e31-7778-4c7c-8664-9a21e48b8921.jpg', 'https://sanpu.iarrp.cn/ssp-dccy/2023-10-27/520330/47a64c90-81f0-4818-b613-a57f0fd42d28.jpg', 'https://sanpu.iarrp.cn/ssp-dccy/2023-10-27/520330/a4a82c92-d8ad-4516-8460-4b5330e62cf6.jpg'], 5203300101000007: ['https://sanpu.iarrp.cn/ssp-dccy/2023-11-10/520330/48f81865-c90e-43ff-b331-ee559f5834c6.jpg', 'https://sanpu.iarrp.cn/ssp-dccy/2023-11-10/520330/70da4515-f196-4ee4-867d-2f055614b030.jpg', 'https://sanpu.iarrp.cn/ssp-dccy/2023-11-10/520330/7cc0b5f1-8ddb-4958-8993-61b1e9f3b1cc.jpg', 'https://sanpu.iarrp.cn/ssp-dccy/2023-11-10/520330/272ba830-1201-4ac9-9ce1-c295eaa97f36.jpg', 'https://sanpu.iarrp.cn/ssp-dccy/2023-11-10/520330/f57b2dde-8e1b-4002-a9b9-1e84ce75b007.jpg'], 5203300101000009: ['https://sanpu.iarrp.cn/ssp-dccy/2023-11-03/520330/6f12ee7e-f3eb-4ad8-b780-4511a9150f5d.jpg', 'https://sanpu.iarrp.cn/ssp-dccy/2023-11-03/520330/47d89e18-2e9a-4816-9c49-4a24578c66e1.jpg', 'https://sanpu.iarrp.cn/ssp-dccy/2023-11-03/520330/89186ffa-f274-4da7-8ff6-a6d5b3286fcd.jpg', 'https://sanpu.iarrp.cn/ssp-dccy/2023-11-03/520330/896fec76-cf57-4b48-82d9-fd3ab8522ae1.jpg', 'https://sanpu.iarrp.cn/ssp-dccy/2023-11-03/520330/57a77706-1b21-4970-aa84-5c6b4934c87e.jpg'], 5203300101000018: ['https://sanpu.iarrp.cn/ssp-dccy/2023-10-27/520330/37161c84-7739-4ee4-b486-edb1dca41c5e.jpg', 'https://sanpu.iarrp.cn/ssp-dccy/2023-10-27/520330/afcc2a7c-3888-489b-90b7-98ecc43bdb57.jpg', 'https://sanpu.iarrp.cn/ssp-dccy/2023-10-27/520330/e6424197-3d57-4d68-8951-7f03e2cfc02b.jpg', 'https://sanpu.iarrp.cn/ssp-dccy/2023-10-27/520330/5fc1a6a8-540d-42c3-bef6-21308f983389.jpg', 'https://sanpu.iarrp.cn/ssp-dccy/2023-10-27/520330/85fe5522-f770-42fb-9732-70ebdab2d483.jpg'], 5203300101000020: ['https://sanpu.iarrp.cn/ssp-dccy/2023/11/08/520330/51f92dcf-72c1-454f-8413-d08c4147476c.jpg', 'https://sanpu.iarrp.cn/ssp-dccy/2023/11/08/520330/413a4893-8282-48c5-8ed3-103f2aaa7470.jpg', 'https://sanpu.iarrp.cn/ssp-dccy/2023/11/08/520330/9006340a-b793-480a-b198-31a23ffcc33d.jpg', 'https://sanpu.iarrp.cn/ssp-dccy/2023/11/08/520330/e167563b-9262-47a8-8855-baca67015d66.jpg', 'https://sanpu.iarrp.cn/ssp-dccy/2023/11/08/520330/2dcde060-0181-4d5b-8e11-4d499d908dd1.jpg']}\n",
      "2024-10-09 23:21:11,157 - INFO - 使用方法: ['ssim', 'histogram', 'phash']\n",
      "2024-10-09 23:21:11,157 - INFO - 相似度阈值: 0.9\n",
      "2024-10-09 23:21:11,158 - INFO - 并行进程数: 4\n",
      "2024-10-09 23:21:11,159 - INFO - 开始查找相似图片,使用方法: ['ssim', 'histogram', 'phash'], 阈值: 0.9, 进程数: 4\n",
      "2024-10-09 23:23:41,196 - INFO - 组 5203300101000003 没有找到相似图片\n",
      "2024-10-09 23:23:41,196 - INFO - 组 5203300101000007 没有找到相似图片\n",
      "2024-10-09 23:23:41,197 - INFO - 组 5203300101000009 没有找到相似图片\n",
      "2024-10-09 23:23:41,198 - INFO - 组 5203300101000018 没有找到相似图片\n",
      "2024-10-09 23:23:41,198 - INFO - 组 5203300101000020 没有找到相似图片\n",
      "2024-10-09 23:23:41,214 - INFO - 结果已保存到 similar_images.xlsx\n",
      "2024-10-09 23:23:41,215 - INFO - 组名: 5203300101000003\n",
      "2024-10-09 23:23:41,216 - INFO - 无相似性图片\n",
      "2024-10-09 23:23:41,217 - INFO - 组名: 5203300101000007\n",
      "2024-10-09 23:23:41,217 - INFO - 无相似性图片\n",
      "2024-10-09 23:23:41,218 - INFO - 组名: 5203300101000009\n",
      "2024-10-09 23:23:41,218 - INFO - 无相似性图片\n",
      "2024-10-09 23:23:41,219 - INFO - 组名: 5203300101000018\n",
      "2024-10-09 23:23:41,219 - INFO - 无相似性图片\n",
      "2024-10-09 23:23:41,220 - INFO - 组名: 5203300101000020\n",
      "2024-10-09 23:23:41,220 - INFO - 无相似性图片\n",
      "2024-10-09 23:23:41,221 - INFO - 图片相似度分析完成\n"
     ]
    },
    {
     "data": {
      "text/plain": [
       "{5203300101000003: [(None, None, 0, {})],\n",
       " 5203300101000007: [(None, None, 0, {})],\n",
       " 5203300101000009: [(None, None, 0, {})],\n",
       " 5203300101000018: [(None, None, 0, {})],\n",
       " 5203300101000020: [(None, None, 0, {})]}"
      ]
     },
     "execution_count": 4,
     "metadata": {},
     "output_type": "execute_result"
    }
   ],
   "source": [
    "# 使用main函数进行图片相似度计算\n",
    "groups = dict(list(img_url_dict.items())[:5])   # 图片组 这里只示例前5组  \n",
    "methods = ['ssim', 'histogram', 'phash']  # 相似度计算方法  这里选择ssim,histogram,phash三种方法组合。\n",
    "threshold = 0.9  # 相似度阈值\n",
    "num_processes = 4  # 进程数\n",
    "\n",
    "main(groups,methods,threshold,num_processes)\n"
   ]
  }
 ],
 "metadata": {
  "kernelspec": {
   "display_name": "opcv_moudle",
   "language": "python",
   "name": "python3"
  },
  "language_info": {
   "codemirror_mode": {
    "name": "ipython",
    "version": 3
   },
   "file_extension": ".py",
   "mimetype": "text/x-python",
   "name": "python",
   "nbconvert_exporter": "python",
   "pygments_lexer": "ipython3",
   "version": "3.10.6"
  }
 },
 "nbformat": 4,
 "nbformat_minor": 2
}
