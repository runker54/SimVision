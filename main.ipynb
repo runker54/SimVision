{
 "cells": [
  {
   "cell_type": "code",
   "execution_count": 1,
   "metadata": {},
   "outputs": [],
   "source": [
    "import os\n",
    "import pandas as pd\n",
    "from script.similarity_picture import main"
   ]
  },
  {
   "cell_type": "markdown",
   "metadata": {},
   "source": [
    "### 构造图片组 \n",
    "这里只示例从excel表中构造图片组，如果从本地文件构造图片组，则需要使用OS库中的函数遍历文件夹中的所有图片，并将其路径添加到图片组中。对应的组名为文件夹名。\n"
   ]
  },
  {
   "cell_type": "code",
   "execution_count": 2,
   "metadata": {},
   "outputs": [],
   "source": [
    "# 图片url表 \n",
    "img_df = pd.read_excel('./table/img_info_1854.xlsx')\n",
    "# 首先，过滤出 wjfl 为 1300 的图片\n",
    "filtered_df = img_df[img_df['wjfl'] == 1300]\n",
    "# 使用 groupby 和 agg 来创建字典\n",
    "img_url_dict = filtered_df.groupby('glbh')['wjlj'].agg(list).to_dict()\n"
   ]
  },
  {
   "cell_type": "code",
   "execution_count": null,
   "metadata": {},
   "outputs": [],
   "source": [
    "# 查看图片组格式是否正确\n",
    "dict(list(img_url_dict.items())[:2])"
   ]
  },
  {
   "cell_type": "code",
   "execution_count": null,
   "metadata": {},
   "outputs": [],
   "source": [
    "# 使用main函数进行图片相似度计算\n",
    "groups = dict(list(img_url_dict.items())[:5])\n",
    "output_directory = '../result'\n",
    "os.makedirs(output_directory, exist_ok=True)\n",
    "log_file = os.path.join(output_directory, 'similarity_log.txt')\n",
    "# 指定要使用的传统方法 可用：histogram, hash, mse, template, phash，ssim，glcm\n",
    "methods = ['histogram', 'hash', 'mse', 'template', 'phash']\n",
    "# 深度学习预训练模型 可选：resnet50, vgg16, densenet121，inception_v3, mobilenet_v2, efficientnet_b0, resnext50_32x4d, resnext101_32x8d, wide_resnet50_2, wide_resnet101_2\n",
    "model_names = ['resnet50','vgg16','densenet121']\n",
    "# 相似度阈值\n",
    "threshold = 0.9\n",
    "# 并行进程数(CPU核数)\n",
    "num_workers = 48\n",
    "# 批次大小\n",
    "batch_size = 50\n",
    "main(groups, threshold=threshold, num_workers=num_workers, model_names=model_names, \n",
    "        methods=methods, output_dir=output_directory, log_file=log_file, batch_size=batch_size)"
   ]
  }
 ],
 "metadata": {
  "kernelspec": {
   "display_name": "opcv_moudle",
   "language": "python",
   "name": "python3"
  },
  "language_info": {
   "codemirror_mode": {
    "name": "ipython",
    "version": 3
   },
   "file_extension": ".py",
   "mimetype": "text/x-python",
   "name": "python",
   "nbconvert_exporter": "python",
   "pygments_lexer": "ipython3",
   "version": "3.10.14"
  }
 },
 "nbformat": 4,
 "nbformat_minor": 2
}
